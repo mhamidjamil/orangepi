{
 "cells": [
  {
   "cell_type": "code",
   "execution_count": 1,
   "metadata": {},
   "outputs": [],
   "source": [
    "# pip3 install influxdb-client\n",
    "# Run this to initialize variables\n",
    "\n",
    "import influxdb_client, os, time\n",
    "from influxdb_client import InfluxDBClient, Point, WritePrecision\n",
    "from influxdb_client.client.write_api import SYNCHRONOUS\n",
    "from dotenv import load_dotenv\n",
    "import random\n",
    "\n",
    "DOTENV_PATH = '/home/orangepi/Desktop/projects/orangepi/serial_communication/web/.env'\n",
    "load_dotenv(DOTENV_PATH)\n",
    "\n",
    "BUCKET=os.getenv(\"INFLUXDB_BUCKET\")\n",
    "ORGANIZATION = os.getenv(\"INFLUXDB_ORGANIZATION\")\n",
    "token = os.getenv(\"INFLUXDB_TOKEN\")\n",
    "\n",
    "url = os.getenv(\"LOCALHOST\")+\":\"+os.getenv(\"INFLUXDB_PORT\")\n",
    "\n",
    "write_client = influxdb_client.InfluxDBClient(url=url, token=token, org=ORGANIZATION)\n",
    "\n"
   ]
  },
  {
   "cell_type": "code",
   "execution_count": 2,
   "metadata": {},
   "outputs": [],
   "source": [
    "# To upload data once\n",
    "write_api = write_client.write_api(write_options=SYNCHRONOUS)\n",
    "\n",
    "for value in range(5):\n",
    "  point = (\n",
    "    Point(\"measurement1\")\n",
    "    .tag(\"tagname1\", \"tagvalue1\")\n",
    "    .field(\"field1\", random.randint(10, 50))\n",
    "  )\n",
    "  write_api.write(bucket=BUCKET, org=ORGANIZATION, record=point)\n",
    "  time.sleep(1) # separate points by 1 second\n",
    "\n",
    "\n"
   ]
  },
  {
   "cell_type": "code",
   "execution_count": 2,
   "metadata": {},
   "outputs": [
    {
     "name": "stdout",
     "output_type": "stream",
     "text": [
      "Last written value: 22\n",
      "Last written value: 50\n",
      "Last written value: 20\n",
      "Last written value: 24\n",
      "Last written value: 31\n",
      "Last written value: 33\n",
      "Last written value: 20\n",
      "Last written value: 50\n"
     ]
    },
    {
     "ename": "KeyboardInterrupt",
     "evalue": "",
     "output_type": "error",
     "traceback": [
      "\u001b[0;31m---------------------------------------------------------------------------\u001b[0m",
      "\u001b[0;31mKeyboardInterrupt\u001b[0m                         Traceback (most recent call last)",
      "Cell \u001b[0;32mIn[2], line 15\u001b[0m\n\u001b[1;32m     13\u001b[0m write_api\u001b[38;5;241m.\u001b[39mwrite(bucket\u001b[38;5;241m=\u001b[39mBUCKET, org\u001b[38;5;241m=\u001b[39mORGANIZATION, record\u001b[38;5;241m=\u001b[39mpoint)\n\u001b[1;32m     14\u001b[0m \u001b[38;5;28mprint\u001b[39m(\u001b[38;5;124mf\u001b[39m\u001b[38;5;124m\"\u001b[39m\u001b[38;5;124mLast written value: \u001b[39m\u001b[38;5;132;01m{\u001b[39;00mvalue\u001b[38;5;132;01m}\u001b[39;00m\u001b[38;5;124m\"\u001b[39m)\n\u001b[0;32m---> 15\u001b[0m \u001b[43mtime\u001b[49m\u001b[38;5;241;43m.\u001b[39;49m\u001b[43msleep\u001b[49m\u001b[43m(\u001b[49m\u001b[38;5;241;43m5\u001b[39;49m\u001b[43m)\u001b[49m  \u001b[38;5;66;03m# Wait for 3 seconds between points\u001b[39;00m\n",
      "\u001b[0;31mKeyboardInterrupt\u001b[0m: "
     ]
    }
   ],
   "source": [
    "# To upload data continuously\n",
    "write_api = write_client.write_api(write_options=SYNCHRONOUS)\n",
    "\n",
    "# Write data continuously\n",
    "while True:\n",
    "    value = random.randint(20, 50)\n",
    "    point = (\n",
    "        Point(\"measurement1\")\n",
    "        .tag(\"tagname1\", \"tagvalue1\")\n",
    "        .field(\"field1\", value)  # Random value between 20 and 50\n",
    "        .field(\"field2\", random.randint(10, 70))  # Random value between 20 and 50\n",
    "    )\n",
    "    write_api.write(bucket=BUCKET, org=ORGANIZATION, record=point)\n",
    "    print(f\"Last written value: {value}\")\n",
    "    time.sleep(5)  # Wait for 3 seconds between points"
   ]
  }
 ],
 "metadata": {
  "kernelspec": {
   "display_name": "Python 3",
   "language": "python",
   "name": "python3"
  },
  "language_info": {
   "codemirror_mode": {
    "name": "ipython",
    "version": 3
   },
   "file_extension": ".py",
   "mimetype": "text/x-python",
   "name": "python",
   "nbconvert_exporter": "python",
   "pygments_lexer": "ipython3",
   "version": "3.10.12"
  }
 },
 "nbformat": 4,
 "nbformat_minor": 2
}
