{
 "cells": [
  {
   "cell_type": "code",
   "execution_count": 5,
   "metadata": {},
   "outputs": [],
   "source": [
    "# pip3 install influxdb-client\n",
    "# Run this to initialize variables\n",
    "\n",
    "import influxdb_client, os, time\n",
    "from influxdb_client import InfluxDBClient, Point, WritePrecision\n",
    "from influxdb_client.client.write_api import SYNCHRONOUS\n",
    "from dotenv import load_dotenv\n",
    "import random\n",
    "\n",
    "DOTENV_PATH = '/home/orangepi/Desktop/projects/orangepi/serial_communication/web/.env'\n",
    "load_dotenv(DOTENV_PATH)\n",
    "\n",
    "BUCKET=os.getenv(\"INFLUXDB_BUCKET\")\n",
    "ORGANIZATION = os.getenv(\"INFLUXDB_ORGANIZATION\")\n",
    "token = os.getenv(\"INFLUXDB_TOKEN\")\n",
    "\n",
    "url = os.getenv(\"LOCALHOST\")+\":\"+os.getenv(\"INFLUXDB_PORT\")\n",
    "\n",
    "write_client = influxdb_client.InfluxDBClient(url=url, token=token, org=ORGANIZATION)\n",
    "\n"
   ]
  },
  {
   "cell_type": "code",
   "execution_count": 2,
   "metadata": {},
   "outputs": [],
   "source": [
    "# To upload data once\n",
    "write_api = write_client.write_api(write_options=SYNCHRONOUS)\n",
    "\n",
    "for value in range(5):\n",
    "  point = (\n",
    "    Point(\"measurement1\")\n",
    "    .tag(\"tagname1\", \"tagvalue1\")\n",
    "    .field(\"field1\", random.randint(10, 50))\n",
    "  )\n",
    "  write_api.write(bucket=BUCKET, org=ORGANIZATION, record=point)\n",
    "  time.sleep(1) # separate points by 1 second\n",
    "\n",
    "\n"
   ]
  },
  {
   "cell_type": "code",
   "execution_count": null,
   "metadata": {},
   "outputs": [],
   "source": [
    "# To upload data continuously\n",
    "write_api = write_client.write_api(write_options=SYNCHRONOUS)\n",
    "\n",
    "# Write data continuously\n",
    "while True:\n",
    "    value = random.randint(20, 50)\n",
    "    point = (\n",
    "        Point(\"measurement1\")\n",
    "        .tag(\"tagname1\", \"tagvalue1\")\n",
    "        .field(\"field1\", value)  # Random value between 20 and 50\n",
    "        .field(\"field2\", random.randint(10, 70))  # Random value between 20 and 50\n",
    "    )\n",
    "    write_api.write(bucket=BUCKET, org=ORGANIZATION, record=point)\n",
    "    print(f\"Last written value: {value}\")\n",
    "    time.sleep(3)  # Wait for 3 seconds between points"
   ]
  }
 ],
 "metadata": {
  "kernelspec": {
   "display_name": "Python 3",
   "language": "python",
   "name": "python3"
  },
  "language_info": {
   "codemirror_mode": {
    "name": "ipython",
    "version": 3
   },
   "file_extension": ".py",
   "mimetype": "text/x-python",
   "name": "python",
   "nbconvert_exporter": "python",
   "pygments_lexer": "ipython3",
   "version": "3.10.12"
  }
 },
 "nbformat": 4,
 "nbformat_minor": 2
}
