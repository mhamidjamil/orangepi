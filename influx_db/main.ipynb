{
 "cells": [
  {
   "cell_type": "code",
   "execution_count": 1,
   "metadata": {},
   "outputs": [],
   "source": [
    "# pip3 install influxdb-client\n",
    "\n",
    "# Run this to initialize variables\n",
    "\n",
    "import influxdb_client, os, time\n",
    "from influxdb_client import InfluxDBClient, Point, WritePrecision\n",
    "from influxdb_client.client.write_api import SYNCHRONOUS\n",
    "\n",
    "token = \"DBneZrR3-FytM83XIBkeSC1vmJbPk-EZXQBr-DsydZJyGipiwW16jTq23Epg0nsM6Y0LNEqMiidwKUmCN2Ll2g==\"\n",
    "org = \"orangepi\"\n",
    "url = \"http://192.168.1.238:8086\"\n",
    "\n",
    "write_client = influxdb_client.InfluxDBClient(url=url, token=token, org=org)\n",
    "\n",
    "import random\n",
    "bucket=\"orangepi\"\n"
   ]
  },
  {
   "cell_type": "code",
   "execution_count": 2,
   "metadata": {},
   "outputs": [],
   "source": [
    "# To upload data once\n",
    "write_api = write_client.write_api(write_options=SYNCHRONOUS)\n",
    "\n",
    "for value in range(5):\n",
    "  point = (\n",
    "    Point(\"measurement1\")\n",
    "    .tag(\"tagname1\", \"tagvalue1\")\n",
    "    .field(\"field1\", random.randint(10, 50))\n",
    "  )\n",
    "  write_api.write(bucket=bucket, org=\"orangepi\", record=point)\n",
    "  time.sleep(1) # separate points by 1 second\n",
    "\n",
    "\n"
   ]
  },
  {
   "cell_type": "code",
   "execution_count": 4,
   "metadata": {},
   "outputs": [],
   "source": [
    "# To upload data continuously\n",
    "write_api = write_client.write_api(write_options=SYNCHRONOUS)\n",
    "\n",
    "# Write data continuously\n",
    "while True:\n",
    "    point = (\n",
    "        Point(\"measurement1\")\n",
    "        .tag(\"tagname1\", \"tagvalue1\")\n",
    "        .field(\"field1\", random.randint(20, 50))  # Random value between 20 and 50\n",
    "    )\n",
    "    write_api.write(bucket=bucket, org=org, record=point)\n",
    "    time.sleep(3)  # Wait for 3 seconds between points"
   ]
  }
 ],
 "metadata": {
  "kernelspec": {
   "display_name": "Python 3",
   "language": "python",
   "name": "python3"
  },
  "language_info": {
   "codemirror_mode": {
    "name": "ipython",
    "version": 3
   },
   "file_extension": ".py",
   "mimetype": "text/x-python",
   "name": "python",
   "nbconvert_exporter": "python",
   "pygments_lexer": "ipython3",
   "version": "3.10.12"
  }
 },
 "nbformat": 4,
 "nbformat_minor": 2
}
