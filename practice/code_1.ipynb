{
 "cells": [
  {
   "cell_type": "code",
   "execution_count": 3,
   "metadata": {},
   "outputs": [
    {
     "name": "stdout",
     "output_type": "stream",
     "text": [
      "Count is: 7\n"
     ]
    }
   ],
   "source": [
    "list_1 = [1,2,2,3,3,3,4,4,4,4,4,4,4,5,6,7,7,7]\n",
    "print (f\"Count is: {list_1.count(4)}\")"
   ]
  },
  {
   "cell_type": "code",
   "execution_count": null,
   "metadata": {},
   "outputs": [],
   "source": [
    "list_2 = []\n",
    "for item in list_1:\n",
    "    if not item in list_2:\n",
    "        print (item)\n",
    "        list_2.append(item)\n",
    "\n",
    "print (f\"list 2 is: {list_2}\")\n"
   ]
  },
  {
   "cell_type": "code",
   "execution_count": 51,
   "metadata": {},
   "outputs": [
    {
     "name": "stdout",
     "output_type": "stream",
     "text": [
      "ascii: ['a', 'b', 'c', 'd', 'e', 'f', 'g', 'h', 'i', 'j', 'k', 'l', 'm', 'n', 'o', 'p', 'q', 'r', 's', 't', 'u', 'v', 'w', 'x', 'y', 'z']\n",
      "ascii is: 122\n"
     ]
    }
   ],
   "source": [
    "msg = \"abcdefghijklmnopqrstuvwxyz\" #lepmh\n",
    "\n",
    "new_msg = list(msg)\n",
    "\n",
    "print(f\"ascii: {new_msg}\")\n",
    "\n",
    "new_order=[]\n",
    "\n",
    "\n",
    "# print(f\"converted: {''.join(new_msg)}\")\n",
    "\n",
    "# print (f\"new orders: {msg[5:3:-4]}\")\n",
    "\n",
    "\n",
    "# print (f\"j in name: {msg.count('cat') == msg.count('dog')  }\")\n",
    "\n",
    "a = 'z'\n",
    "print (f\"ascii is: {ord(a)}\")\n",
    "\n",
    "# for item in new_msg:\n",
    "#     new_order.append(chr(ord(item)+4))\n",
    "\n",
    "# print (f\"new message: {''.join(new_order)}\")"
   ]
  }
 ],
 "metadata": {
  "kernelspec": {
   "display_name": "Python 3",
   "language": "python",
   "name": "python3"
  },
  "language_info": {
   "codemirror_mode": {
    "name": "ipython",
    "version": 3
   },
   "file_extension": ".py",
   "mimetype": "text/x-python",
   "name": "python",
   "nbconvert_exporter": "python",
   "pygments_lexer": "ipython3",
   "version": "3.10.12"
  }
 },
 "nbformat": 4,
 "nbformat_minor": 2
}
